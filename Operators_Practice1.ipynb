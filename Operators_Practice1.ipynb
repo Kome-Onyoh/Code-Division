{
  "nbformat": 4,
  "nbformat_minor": 0,
  "metadata": {
    "colab": {
      "provenance": [],
      "include_colab_link": true
    },
    "kernelspec": {
      "name": "python3",
      "display_name": "Python 3"
    },
    "language_info": {
      "name": "python"
    }
  },
  "cells": [
    {
      "cell_type": "markdown",
      "metadata": {
        "id": "view-in-github",
        "colab_type": "text"
      },
      "source": [
        "<a href=\"https://colab.research.google.com/github/Kome-Onyoh/Code-Division/blob/main/Operators_Practice1.ipynb\" target=\"_parent\"><img src=\"https://colab.research.google.com/assets/colab-badge.svg\" alt=\"Open In Colab\"/></a>"
      ]
    },
    {
      "cell_type": "markdown",
      "source": [
        "<a href=\"https://colab.research.google.com/github/StefanMeyer7/Python-Fundamentals/blob/main/Operators_Practice1.ipynb\" target=\"_parent\"><img src=\"https://colab.research.google.com/assets/colab-badge.svg\" alt=\"Open In Colab\"/></a>"
      ],
      "metadata": {
        "id": "hypbENCo_DGn"
      }
    },
    {
      "cell_type": "markdown",
      "source": [
        "# Operators - arithmetic\n",
        "\n",
        "---"
      ],
      "metadata": {
        "id": "EnRmdmB10Yj5"
      }
    },
    {
      "cell_type": "markdown",
      "source": [
        "In Python, we can use the following arithmetic operators:  \n",
        "\n",
        "![Python operators](https://drive.google.com/uc?id=1EARs0OefvMwAULyNGGs01xYLW3lIAO9B)\n",
        "\n",
        "\n",
        "\n",
        "\n",
        "\n",
        "\n",
        "\n",
        "\n",
        "\n"
      ],
      "metadata": {
        "id": "SoYibwgF0Zmv"
      }
    },
    {
      "cell_type": "markdown",
      "source": [
        "---\n",
        "### Exercise 1 - multiplication of integers\n",
        "Write a function called **print_dog_human_age()** which will:  \n",
        "\n",
        "*  ask the user to input their dog's age and assign this to an integer variable called **dog_age**  \n",
        "*  calculate the dog’s age in human years by multiplying it by 7, assigning it to a new variable called **dog_human_age**  \n",
        "*  print the age in human years (`dog_human_age`)    \n",
        "\n",
        "Test Input:  \n",
        "4  \n",
        "\n",
        "Expected output:  \n",
        "28\n"
      ],
      "metadata": {
        "id": "8cOdsuX00gRo"
      }
    },
    {
      "cell_type": "code",
      "source": [
        "def print_dog_human_age():\n",
        "  dog_age = int(input(\"Enter your dog age: \"))\n",
        "  dog_human_age = dog_age * 7\n",
        "  print(dog_human_age)\n",
        "\n",
        "print_dog_human_age()\n"
      ],
      "metadata": {
        "id": "7c2DtRBv0jp0",
        "colab": {
          "base_uri": "https://localhost:8080/"
        },
        "outputId": "38515fb3-87f2-461e-897f-338aa9a93ce8"
      },
      "execution_count": 4,
      "outputs": [
        {
          "output_type": "stream",
          "name": "stdout",
          "text": [
            "Enter your dog age: 4\n",
            "28\n"
          ]
        }
      ]
    },
    {
      "cell_type": "markdown",
      "source": [
        "---\n",
        "### Exercise 2 - BIDMAS\n",
        "Write a function called **calculate_average()** which will:  \n",
        "\n",
        "*  ask the user for 3 seperate numbers, **num1**, **num2**, **num3**  \n",
        "*  calculate the **average** of the three numbers\n",
        "*  print the `average`, rounded to 2 decimal places  \n",
        "\n",
        "*Hint 1:  to round a number, use round(), e.g. round(`average`)  *\n",
        "*Hint 2: remember the BIDMAS order of operators and use brackets to change the order if necessary.*  \n",
        "\n",
        "Test Input:  \n",
        "3  \n",
        "5  \n",
        "9  \n",
        "\n",
        "Expected output:  \n",
        "5.67"
      ],
      "metadata": {
        "id": "OUzlA9oT0lYN"
      }
    },
    {
      "cell_type": "code",
      "source": [
        "def calculate_average():\n",
        "  num1 = float(input(\"Enter the first number:  \"))\n",
        "  num2 = float(input(\"Enter the second number:  \"))\n",
        "  num3 = float(input(\"Enter the third number:  \"))\n",
        "  average = (num1 + num2 + num3) / 3\n",
        "  print(round(average,2))\n",
        "\n",
        "calculate_average()\n"
      ],
      "metadata": {
        "id": "fycS5pTr0mWd",
        "colab": {
          "base_uri": "https://localhost:8080/"
        },
        "outputId": "10a40154-fbbd-47ee-c301-0ac5b20fae2d"
      },
      "execution_count": 7,
      "outputs": [
        {
          "output_type": "stream",
          "name": "stdout",
          "text": [
            "Enter the first number:  3\n",
            "Enter the second number:  5\n",
            "Enter the third number:  9\n",
            "5.67\n"
          ]
        }
      ]
    },
    {
      "cell_type": "markdown",
      "source": [
        "---\n",
        "### Exercise 3 - BIDMAS\n",
        "\n",
        "Write a function called **calculate_avg_height()** which will:  \n",
        "\n",
        "*  ask the user to input their **height**  \n",
        "*  convert `height` to **height_centimeters** (multiply by 100)  \n",
        "*  print `height_centimeters`  \n",
        "\n",
        "*Remember, height in metres is usually a decimal, so data type matters*  \n",
        "\n",
        "Test Input:  \n",
        "1.67  \n",
        "\n",
        "Expected output:  \n",
        "167\n"
      ],
      "metadata": {
        "id": "f5przU_E0nJ4"
      }
    },
    {
      "cell_type": "code",
      "source": [
        "def calculate_avg_height():\n",
        "  height = float(input(\"Enter your height:  \"))\n",
        "  height_centimeters = height * 100\n",
        "  print(int(height_centimeters))\n",
        "\n",
        "calculate_avg_height()\n"
      ],
      "metadata": {
        "id": "fWJKIb8k0ory",
        "colab": {
          "base_uri": "https://localhost:8080/"
        },
        "outputId": "5baa5f27-fb89-4897-9b22-7bd5fff4b9e7"
      },
      "execution_count": 14,
      "outputs": [
        {
          "output_type": "stream",
          "name": "stdout",
          "text": [
            "Enter your height:  1.67\n",
            "167\n"
          ]
        }
      ]
    },
    {
      "cell_type": "markdown",
      "source": [
        "---\n",
        "### Exercise 4 - float and formatting printing\n",
        "\n",
        "At the time of writing, the exchange rate from Pounds (£) to Euros (€) is 1.16 (£1 = €1.16).\n",
        "\n",
        "Write a function called **convert_currency(**) which will:\n",
        "\n",
        "*  ask a user to input an amount in **pounds**  \n",
        "*  calculate the equivalent number of **euros**  \n",
        "*  print `euros`, rounded to 2 decimal places  \n",
        "\n",
        "Test Input:  \n",
        "£60\n",
        "\n",
        "Expected output:  \n",
        "€69.6  \n",
        "\n",
        "*Remember, pounds is likely to be a decimal number and that the user should not enter the £ sign.*"
      ],
      "metadata": {
        "id": "QYPvmjUY0qj5"
      }
    },
    {
      "cell_type": "code",
      "source": [
        "def convert_currency ():\n",
        "  pounds = float(input(\"Enter an amount in Pounds:  \"))\n",
        "  exchange_rate = 1.16\n",
        "  euros = pounds * exchange_rate\n",
        "  print(f\"£{round(euros, 2)}\")\n",
        "\n",
        "convert_currency()\n"
      ],
      "metadata": {
        "id": "csXus4bl0rdm",
        "colab": {
          "base_uri": "https://localhost:8080/"
        },
        "outputId": "d3acee94-9ddd-47f9-87c3-ef89400246eb"
      },
      "execution_count": 8,
      "outputs": [
        {
          "output_type": "stream",
          "name": "stdout",
          "text": [
            "Enter an amount in Pounds:  60\n",
            "£69.6\n"
          ]
        }
      ]
    },
    {
      "cell_type": "markdown",
      "source": [
        "---\n",
        "### Exercise 5 - rounding\n",
        "\n",
        "Write a function called **calculate_stats()** which will:  \n",
        "\n",
        "*  assign the numbers 3.145, 5.6723 and 9.34 to the variables **num1**, **num2** and **num3** respectively  \n",
        "*  calculate the **total** of the three numbers, rounded to 2 decimal places  \n",
        "*  calculate the **average** of the numbers, rounded to 3 decimal places  \n",
        "*  print `total` and `average` in a message that labels them.\n",
        "\n",
        "Expected output:\n",
        "\n",
        "The total of the three numbers is 18.16  \n",
        "The average of the three numbers is 6.053\n",
        "\n",
        "*Remember to calculate the average you divide the total by the quantity of numbers, e.g. total/3*\n"
      ],
      "metadata": {
        "id": "nWi9kpu_0sdX"
      }
    },
    {
      "cell_type": "code",
      "source": [
        "def calculate_stats():\n",
        "  num1 = 3.145\n",
        "  num2 = 5.6723\n",
        "  num3 = 9.34\n",
        "  total = (num1 + num2 + num3)\n",
        "  total = round(total, 2)\n",
        "  average = (total / 3)\n",
        "  average = round(average, 3)\n",
        "  print(\"The total of the three numbers is\", total)\n",
        "  print(\"The average of the three numbers is\", average)\n",
        "\n",
        "calculate_stats()\n"
      ],
      "metadata": {
        "id": "j72MPPLN0tMs",
        "colab": {
          "base_uri": "https://localhost:8080/"
        },
        "outputId": "266c8ec4-33aa-4846-dcf5-60f52c511c69"
      },
      "execution_count": 11,
      "outputs": [
        {
          "output_type": "stream",
          "name": "stdout",
          "text": [
            "The total of the three numbers is 18.16\n",
            "The average of the three numbers is 6.053\n"
          ]
        }
      ]
    },
    {
      "cell_type": "code",
      "source": [
        "def calculate_stats():\n",
        "  num1 = 3.145\n",
        "  num2 = 5.6723\n",
        "  num3 = 9.34\n",
        "  total = round(num1 + num2 + num3, 2)\n",
        "  average = round(total / 3, 3)\n",
        "  print(\"The total of the three numbers is\", total)\n",
        "  print(\"The average of the three numbers is\", average)\n",
        "\n",
        "calculate_stats()\n"
      ],
      "metadata": {
        "colab": {
          "base_uri": "https://localhost:8080/"
        },
        "id": "rabohWIVlApD",
        "outputId": "fc424e61-1189-41c4-c6a2-86544fe34f8f"
      },
      "execution_count": 13,
      "outputs": [
        {
          "output_type": "stream",
          "name": "stdout",
          "text": [
            "The total of the three numbers is 18.16\n",
            "The average of the three numbers is 6.053\n"
          ]
        }
      ]
    },
    {
      "cell_type": "markdown",
      "source": [
        "---\n",
        "### Exercise 6 - calculating volume\n",
        "\n",
        "Bill is moving house. He needs to know how much space his cardboard packing boxes have.   \n",
        "\n",
        "Write a function called **calculate_volume()** which will:   \n",
        "\n",
        "*  assign the value 3.2, 5.6 and 7.8 to the variables **base**, **width** and **height** respectively  \n",
        "*  calculate the **box_volume** rounded to 1 decimal place  \n",
        "*  print the `box_volume`\n",
        "\n",
        "*Hint: volume = base x width x height*\n",
        "\n",
        "Expected output:  \n",
        "139.8\n"
      ],
      "metadata": {
        "id": "O2y1wwGp0uph"
      }
    },
    {
      "cell_type": "code",
      "source": [
        "def calculate_volume():\n",
        "  base = 3.2\n",
        "  width = 5.6\n",
        "  height = 7.8\n",
        "  box_volume = round((base * width * height),1)\n",
        "  print(box_volume)\n",
        "\n",
        "calculate_volume()\n"
      ],
      "metadata": {
        "id": "0UMQ7wqU0vvp",
        "colab": {
          "base_uri": "https://localhost:8080/"
        },
        "outputId": "fa632cbf-690a-422c-f719-b355d63d1868"
      },
      "execution_count": 1,
      "outputs": [
        {
          "output_type": "stream",
          "name": "stdout",
          "text": [
            "139.8\n"
          ]
        }
      ]
    },
    {
      "cell_type": "markdown",
      "source": [
        "---\n",
        "***Floor Division***  \n",
        "*So far, we have been using standard arithmetic operators. If we would like to divide without remainders (eg. no decimals) we can use floor division using the // operator.  This will always round down*.  \n",
        "\n",
        "*For example*:  \n",
        "*42/8 = 5.75*  \n",
        "*BUT*  \n",
        "4*2//8 = 5*"
      ],
      "metadata": {
        "id": "0glFo12x0xP1"
      }
    },
    {
      "cell_type": "markdown",
      "source": [
        "---\n",
        "### Exercise 7 - calculating with volumes\n",
        "\n",
        "Bill needs to work out how many boxes he will need.  \n",
        "\n",
        "Building on what you did in the last exercise, write a function called **calculate_boxes(base, width, height)** which will:  \n",
        "\n",
        "*  calculate the volume of a box, using the **base**, **width** and **height** supplied in the brackets  \n",
        "*  ask Bill for the **total_volume** of his stuff  \n",
        "*  calculate the total **number_of_boxes** he will need, and print the `number_of_boxes`  \n",
        "\n",
        "*Hint: the `total` will not be a decimal number - you should use floor division and add one to the answer (for the box that will have the leftovers).*\n",
        "\n",
        "Test Input:  \n",
        "1500  \n",
        "\n",
        "Expected output:  \n",
        "11  \n"
      ],
      "metadata": {
        "id": "NLSvu6AE0zAv"
      }
    },
    {
      "cell_type": "code",
      "source": [
        "def calculate_boxes(base, width, height):\n",
        "  # add your code below here to calculate the boxVolume, ask for totalVolume and calculate number of boxes\n",
        "  box_volume =   base * width * height\n",
        "  total_volume = 1500\n",
        "  number_of_boxes = (total_volume // box_volume) + 1\n",
        "  print(int(number_of_boxes))\n",
        "\n",
        "\n",
        "calculate_boxes(3.2, 5.6, 7.8)\n"
      ],
      "metadata": {
        "id": "Xna4PbY90z8u",
        "colab": {
          "base_uri": "https://localhost:8080/"
        },
        "outputId": "0980f648-ac5a-4fce-80d7-22d466ec7584"
      },
      "execution_count": 3,
      "outputs": [
        {
          "output_type": "stream",
          "name": "stdout",
          "text": [
            "11\n"
          ]
        }
      ]
    },
    {
      "cell_type": "markdown",
      "source": [
        "---\n",
        "### Exercise 8 - rounding up\n",
        "\n",
        "Write a function called **calculate_parcel_weight()** which will:  \n",
        "\n",
        "*  ask the user to enter the weights, in kg, of four parcels (**weight1, weight2, weight3, weight4**)\n",
        "*  calculate the total **parcel_weight** and display this in a whole number of kg, **rounded up**  \n",
        "*  print the `parcel_weight`\n",
        "\n",
        "\n",
        "Test Inputs:  \n",
        "1.23  \n",
        "2.84  \n",
        "1.675  \n",
        "3.03  \n",
        "\n",
        "Expected output:  \n",
        "9kg\n"
      ],
      "metadata": {
        "id": "FugBpdSk02Pq"
      }
    },
    {
      "cell_type": "code",
      "source": [
        "def calculate_parcel_weight():\n",
        "  weight1 = float(input(\"Enter the weights of parcel 1 in kg: \"))\n",
        "  weight2 = float(input(\"Enter the weight of parcel 2 in kg:  \"))\n",
        "  weight3 = float(input(\"Enter the weight of parcel 3 in kg:  \"))\n",
        "  weight4 = float(input(\"Enter the weight of parcel 4 in kg:  \"))\n",
        "  parcel_weight = int(round((weight1 + weight2 + weight3 + weight4),0))\n",
        "  print(f\"{parcel_weight}kg\")\n",
        "\n",
        "calculate_parcel_weight()\n"
      ],
      "metadata": {
        "id": "CZzLghON0311",
        "colab": {
          "base_uri": "https://localhost:8080/"
        },
        "outputId": "129f6dd7-993b-4e04-b0cd-0294ed003c3d"
      },
      "execution_count": 12,
      "outputs": [
        {
          "output_type": "stream",
          "name": "stdout",
          "text": [
            "Enter the weights of parcel 1 in kg: 1.23\n",
            "Enter the weight of parcel 2 in kg:  2.84\n",
            "Enter the weight of parcel 3 in kg:  1.675\n",
            "Enter the weight of parcel 4 in kg:  3.03\n",
            "9kg\n"
          ]
        }
      ]
    },
    {
      "cell_type": "markdown",
      "source": [
        "---\n",
        "### Exercise 9 - modulus\n",
        "\n",
        "Write a function called **get_pm_minutes()** which will:  \n",
        "\n",
        "*  ask the user to enter an afternoon **time** in 24 hour clock (e.g. 1350)\n",
        "*  use floor division to get the **hour** (ie divide by 100)  \n",
        "*  use modulus to get the **minutes**  \n",
        "*  subtract 12 to get the 12 hour clock storing the result back in `hour`      \n",
        "*  print a message to say that It is `minutes` minutes past `hour` PM\n",
        "\n",
        "Test Input:  \n",
        "1350  \n",
        "\n",
        "Expected output:  \n",
        "It is 50 minutes past 1 PM\n",
        "\n",
        "*(Is it possible to use this code to get the right hour for a morning time?  You will do this in the section that allows selection depending on value)*\n",
        "\n"
      ],
      "metadata": {
        "id": "6IO8QBaM05Ps"
      }
    },
    {
      "cell_type": "code",
      "source": [
        "def get_pm_minutes():\n",
        "  time = int(input(\"Enter a time in the afternoon using the 24 hour clock: \" ))\n",
        "  hour = time // 100\n",
        "  minutes = time % 100\n",
        "  hour = hour - 12\n",
        "  print(\"It is\", minutes, \"minutes past\", hour,\"PM\")\n",
        "\n",
        "get_pm_minutes()\n"
      ],
      "metadata": {
        "id": "5YqZzdDr06At",
        "colab": {
          "base_uri": "https://localhost:8080/"
        },
        "outputId": "8cce1e67-4a84-4c60-bba5-25e2d4160543"
      },
      "execution_count": 24,
      "outputs": [
        {
          "output_type": "stream",
          "name": "stdout",
          "text": [
            "Enter a time in the afternoon using the 24 hour clock: 1350\n",
            "It is 50 minutes past 1 PM\n"
          ]
        }
      ]
    },
    {
      "cell_type": "markdown",
      "source": [
        "---\n",
        "### Exercise 10 - How many tins of beans?  \n",
        "\n",
        "Write a function called **calculate_tins()** that will calculate how many tins of beans will fit in a cardboard box. Bean tins are *11cm tall* and *8cm* diameter.  All tins will be standing up and can be stacked in layers.  \n",
        "\n",
        "*  use the **height**, **width** and **depth** of the box supplied in the function’s brackets.   \n",
        "*  calculate the **number_of_tins** that can fit in the box   \n",
        "*  print the `number_of_tins` that can fit  \n",
        "\n",
        "*Hint: you will need to calculate the number of layers, and the number that will fit in each direction, the product (all of the numbers multiplied together) will tell you how many tins. All answers must be whole numbers*  \n",
        "\n",
        "\n",
        "Expected output:  \n",
        "24 tins will fit in this box  \n"
      ],
      "metadata": {
        "id": "jtDPyVnv07F_"
      }
    },
    {
      "cell_type": "code",
      "source": [
        "def calculate_tins(height, width, depth):\n",
        "   # add your code below here\n",
        "   height = 24\n",
        "   width = 50\n",
        "   depth = 18\n",
        "\n",
        "   # Calculate the volume of the box\n",
        "   box_volume = height * width * depth\n",
        "\n",
        "   # Calculate the volume of a single tin of beans\n",
        "   tin_height = 11\n",
        "   tin_diameter = 8\n",
        "   tin_radius = tin_diameter / 2\n",
        "   tin_volume = float(3.14159265359 * (tin_radius * tin_radius)  * tin_height)\n",
        "\n",
        "   # Calculate the number of tins that can fit into the box\n",
        "   number_of_tins = int(box_volume // tin_volume)\n",
        "   print(f\"{number_of_tins} tins will fit in this box.\")\n",
        "\n",
        "\n",
        "calculate_tins(24, 50, 18)"
      ],
      "metadata": {
        "id": "v_t4JqgS075s",
        "colab": {
          "base_uri": "https://localhost:8080/"
        },
        "outputId": "c245cc5d-7bfa-4f6e-9836-cea51c476740"
      },
      "execution_count": 11,
      "outputs": [
        {
          "output_type": "stream",
          "name": "stdout",
          "text": [
            "39 tins will fit in this box.\n"
          ]
        }
      ]
    }
  ]
}
{
  "nbformat": 4,
  "nbformat_minor": 0,
  "metadata": {
    "colab": {
      "provenance": [],
      "include_colab_link": true
    },
    "kernelspec": {
      "name": "python3",
      "display_name": "Python 3"
    },
    "language_info": {
      "name": "python"
    }
  },
  "cells": [
    {
      "cell_type": "markdown",
      "metadata": {
        "id": "view-in-github",
        "colab_type": "text"
      },
      "source": [
        "<a href=\"https://colab.research.google.com/github/Kome-Onyoh/Code-Division/blob/main/DataTypes_Practice3.ipynb\" target=\"_parent\"><img src=\"https://colab.research.google.com/assets/colab-badge.svg\" alt=\"Open In Colab\"/></a>"
      ]
    },
    {
      "cell_type": "markdown",
      "source": [
        "<a href=\"https://colab.research.google.com/github/StefanMeyer7/Python-Fundamentals/blob/main/DataTypes_Practice1.ipynb\" target=\"_parent\"><img src=\"https://colab.research.google.com/assets/colab-badge.svg\" alt=\"Open In Colab\"/></a>"
      ],
      "metadata": {
        "id": "hypbENCo_DGn"
      }
    },
    {
      "cell_type": "markdown",
      "source": [
        "# Working with Strings"
      ],
      "metadata": {
        "id": "AhRgOJ7ryJVH"
      }
    },
    {
      "cell_type": "markdown",
      "source": [
        "---\n",
        "### Exercise 1 input and strings\n",
        "**Recap**: to get input from the user and store it in a variable, use the instruction  \n",
        "\n",
        "*variableName = input(\"message asking user for required information\")*  \n",
        "\n",
        "*Remember: Unless you state otherwise, all input is String data*  \n",
        "\n",
        "Write a function called **print_initials()** which will:\n",
        "\n",
        "*  ask the user to input a **first_name**  \n",
        "*  ask the user to input a **middle_name**  \n",
        "*  ask the user to input a **surname**  \n",
        "*  print the name in the format: `surname`, `first_name` `middle_name`  \n",
        "\n",
        "Test Inputs:  \n",
        "Peter  \n",
        "Barry  \n",
        "Burrows  \n",
        "\n",
        "Expected output:  \n",
        "Burrows, Peter Barry\n"
      ],
      "metadata": {
        "id": "7PXmCFw5yL1k"
      }
    },
    {
      "cell_type": "code",
      "source": [
        "def print_initials():\n",
        "  first_name = input(\"please input your firstname:  \")\n",
        "  middle_name = input(\"please input your middlename:  \")\n",
        "  surname = input(\"please input your surname:  \")\n",
        "  print(surname + \", \" + first_name + \" \" + middle_name)\n",
        "\n",
        "print_initials()"
      ],
      "metadata": {
        "id": "yg4eXXaFyN7r",
        "colab": {
          "base_uri": "https://localhost:8080/"
        },
        "outputId": "a6e7f3ba-4c0f-43a5-974b-bdd7b12fcb97"
      },
      "execution_count": 2,
      "outputs": [
        {
          "output_type": "stream",
          "name": "stdout",
          "text": [
            "please input your firstname:  Peter\n",
            "please input your middlename:  Barry\n",
            "please input your surname:  Burrows\n",
            "Burrows, Peter Barry\n"
          ]
        }
      ]
    },
    {
      "cell_type": "markdown",
      "source": [
        "# Substrings\n",
        "\n",
        "---\n",
        "\n",
        "A String is a set of characters. Each String has a length and each character in the string has a position or index. Indexing starts at 0 so the first character of a String is at position 0. As Strings have varying lengths, the last character of the String is at position -1. To find any character in the String, count from 0 or, if you want to count backwards from the end, count back from -1.  \n",
        "\n",
        "You can get a particular character, or a set of consecutive characters (substring) from a String using [] and the positions of the characters you want.  \n",
        "\n",
        "Example:  \n",
        "To get the first letter of a String (in this case the String is called **name**)\n",
        "**first_letter** = `name`[0]  \n",
        "**second_letter** = `name`[1]  \n",
        "**sixth_letter** = `name`[5]  \n",
        "\n",
        "To get the last letter of name:  \n",
        "**last_letter** = `name`[-1]  \n",
        "**second_last_letter** = `name`[-2]  \n",
        "**third_last_letter** = `name`[-3]  \n",
        "\n",
        "Have a go"
      ],
      "metadata": {
        "id": "CCr-T7TYyOBZ"
      }
    },
    {
      "cell_type": "code",
      "source": [
        "def print_letters():\n",
        "   name = \"Robert\"\n",
        "   # add your code below here to get a particular letter and print it.\n",
        "   print(name[0])\n",
        "\n",
        "\n",
        "print_letters()"
      ],
      "metadata": {
        "id": "pfw0aN7CyQTJ",
        "colab": {
          "base_uri": "https://localhost:8080/"
        },
        "outputId": "4728876f-e53f-41d8-eb6b-005914e0412c"
      },
      "execution_count": 12,
      "outputs": [
        {
          "output_type": "stream",
          "name": "stdout",
          "text": [
            "R\n"
          ]
        }
      ]
    },
    {
      "cell_type": "markdown",
      "source": [
        "To get a set of letters from a String, use the slice operator.  \n",
        "\n",
        "*substring = stringname[ index of first letter to be included_ : index + 1 of last letter ]*\n",
        "\n",
        "Example:  \n",
        "\n",
        "**first_three_letters** = `name`[0:3]  \n",
        "**second_to_fifth_letters** = `name`[1:5]  \n",
        "**last_three_letters** = `name`[-3:]  \n",
        "\n",
        "*Note: we can't add 1 to -1 as the result would be 0 and confused with the first letter, so we omit the second number to indicate that we want all characters to the end of the string*"
      ],
      "metadata": {
        "id": "ARnlyx-2yVBj"
      }
    },
    {
      "cell_type": "code",
      "source": [
        "def print_substrings():\n",
        "   name = \"Robert\"\n",
        "   # add your code below here to get a particular letter, or set of letters and print them.\n",
        "   print(name[0:3])\n",
        "\n",
        "print_substrings()"
      ],
      "metadata": {
        "id": "uyG73iAFyWCM",
        "colab": {
          "base_uri": "https://localhost:8080/"
        },
        "outputId": "b80c58e0-44af-489e-d2c7-cd917d831e82"
      },
      "execution_count": 15,
      "outputs": [
        {
          "output_type": "stream",
          "name": "stdout",
          "text": [
            "Rob\n"
          ]
        }
      ]
    },
    {
      "cell_type": "markdown",
      "source": [
        "---\n",
        "### Exercise 2 - substrings\n",
        "\n",
        "Write a function called **print_substring()** which will:\n",
        "\n",
        "Ask the user to input a **name** of at least 5 letters  \n",
        "Print the **first** and the **fourth** letters in the `name`  \n",
        "\n",
        "Test Inputs:  \n",
        "Bartholomew  \n",
        "\n",
        "Expected output:  \n",
        "First letter is B, fourth letter is t\n"
      ],
      "metadata": {
        "id": "GjwIqqCtyYFE"
      }
    },
    {
      "cell_type": "code",
      "source": [
        "def print_substrings():\n",
        "  name = input(\"Enter a name of at least 5 letters:  \")\n",
        "  if len(name) >= 5:\n",
        "    print (f\"First letter is {name[0]}, fourth letter is {name[3]}\")\n",
        "  else:\n",
        "    print(\"The name should have 5 letters.\")\n",
        "\n",
        "print_substrings()"
      ],
      "metadata": {
        "colab": {
          "base_uri": "https://localhost:8080/"
        },
        "id": "dUhRXZSaG0Qs",
        "outputId": "3d4b4898-e0fb-44db-c408-4523296d410e"
      },
      "execution_count": 20,
      "outputs": [
        {
          "output_type": "stream",
          "name": "stdout",
          "text": [
            "Enter a name of at least 5 letters:  Barthlomew\n",
            "First letter is B, fourth letter is t\n"
          ]
        }
      ]
    },
    {
      "cell_type": "markdown",
      "source": [
        "---\n",
        "### Exercise 3  - Formatting String output  \n",
        "\n",
        "Write a function called **print_formatted()** which will:  \n",
        "\n",
        "*  ask the user to input a **house_number**\n",
        "*  ask the user to input a **road_name**, then a **town**, then a **postcode**  \n",
        "*  print the address on three lines (`house_number` with a comma and `road_name`, `town`, `postcode`)  \n",
        "\n",
        "Test Input:  \n",
        "10  \n",
        "Old Road  \n",
        "Chatham  \n",
        "ME4 1AA  \n",
        "\n",
        "Expected output:   \n",
        "10, Old Road  \n",
        "Chatham  \n",
        "ME4 1AA  "
      ],
      "metadata": {
        "id": "AHTaERl3ycDz"
      }
    },
    {
      "cell_type": "code",
      "source": [
        "def print_formatted():\n",
        "  house_number = input(\"Enter your house number:  \")\n",
        "  road_name = input(\"Enter your road name:  \")\n",
        "  town = input(\"Enter your town:  \")\n",
        "  postcode = input(\"Enter your postcode:  \")\n",
        "\n",
        "  print(f\"{house_number}, {road_name}\")\n",
        "  print(town)\n",
        "  print(postcode)\n",
        "\n",
        "print_formatted()"
      ],
      "metadata": {
        "id": "m8S_no9Kyc48",
        "colab": {
          "base_uri": "https://localhost:8080/"
        },
        "outputId": "474d3b72-c379-4f17-fe4f-481b75ee2880"
      },
      "execution_count": 19,
      "outputs": [
        {
          "output_type": "stream",
          "name": "stdout",
          "text": [
            "Enter your house number:  10\n",
            "Enter your road name:  Old Road\n",
            "Enter your town:  Chatham\n",
            "Enter your postcode:  ME4 1AA\n",
            "10, Old Road\n",
            "Chatham\n",
            "ME4 1AA\n"
          ]
        }
      ]
    },
    {
      "cell_type": "markdown",
      "source": [
        "# String functions\n",
        "\n",
        "## String length\n",
        "\n",
        "You can get the length of a String using the len() function   \n",
        "e.g. **namelength** = len(`name`)  \n"
      ],
      "metadata": {
        "id": "qW8hUmVWyfBC"
      }
    },
    {
      "cell_type": "markdown",
      "source": [
        "---\n",
        "### Exercise 4 - String length  \n",
        "\n",
        "Write a function called **print_namelength()** which will:  \n",
        "\n",
        "*  ask the user to input a **name**  \n",
        "*  assign the length of the name to a variable called **name_length**  \n",
        "*  print the `name` followed by a comma, then `name_length`, then the word “characters”.\n",
        "\n",
        "Test Input:  \n",
        "William  \n",
        "\n",
        "Expected Output:  \n",
        "William, 7 characters"
      ],
      "metadata": {
        "id": "XkKLQYZayiwM"
      }
    },
    {
      "cell_type": "code",
      "source": [
        "def print_namelength():\n",
        "  name = input(\"Enter a name:  \")\n",
        "  name_length = len(name)\n",
        "  print(f\"{name}, {name_length} characters\")\n",
        "\n",
        "print_namelength()"
      ],
      "metadata": {
        "id": "8DLhrrP4ykQY",
        "colab": {
          "base_uri": "https://localhost:8080/"
        },
        "outputId": "cbb3e8ec-49cd-4235-cfbd-69318a16d6a3"
      },
      "execution_count": 22,
      "outputs": [
        {
          "output_type": "stream",
          "name": "stdout",
          "text": [
            "Enter a name:  William\n",
            "William, 7 characters\n"
          ]
        }
      ]
    },
    {
      "cell_type": "markdown",
      "source": [
        "## String Case Conversion  \n",
        "\n",
        "When you start to compare and search for strings, you will need to be aware that data doesn’t always turn up in the state we would like it.  People often forget to use capital letters at the beginning of their names and will sometimes use all capitals.  It is useful, therefore, to be able to convert a String either to all capitals or all lowercase, depending on how you want to see it.  \n",
        "\n",
        "There are three functions for this, which are linked to the String (here the String variable is called **name**).  \n",
        "\n",
        "*   **upper_case_name** = `name.upper()`\n",
        "*   **lower_case_name** = `name.lower()`\n",
        "*   **capitalised_name** = `name.capitalize()`\n"
      ],
      "metadata": {
        "id": "zZBVBzSFymrZ"
      }
    },
    {
      "cell_type": "markdown",
      "source": [
        "---\n",
        "### Exercise 5 - case conversion  \n",
        "\n",
        "Write a function called **convert_to_capitals()** which will:  \n",
        "\n",
        "*  ask the user to input a **name** in lowercase letters\n",
        "*  assign the capitalised String to the variable **capitalised_name**\n",
        "*  print the `name` in capitals  \n",
        "\n",
        "Test Input:  \n",
        "jaswinder  \n",
        "\n",
        "Expected output:  \n",
        "JASWINDER  \n"
      ],
      "metadata": {
        "id": "Q6dE2J5wywky"
      }
    },
    {
      "cell_type": "code",
      "source": [
        "def convert_to_capitals():\n",
        "  name = input(\"Enter your name in lowercase letters:  \")\n",
        "  capitalized_name = name.upper()\n",
        "  print(capitalized_name)\n",
        "\n",
        "convert_to_capitals()"
      ],
      "metadata": {
        "id": "1VT1qkWryxda",
        "colab": {
          "base_uri": "https://localhost:8080/"
        },
        "outputId": "28096539-ffc7-4587-a8a0-e3e5b47c7d95"
      },
      "execution_count": 24,
      "outputs": [
        {
          "output_type": "stream",
          "name": "stdout",
          "text": [
            "Enter your name in lowercase letters:  Jaswinder\n",
            "JASWINDER\n"
          ]
        }
      ]
    },
    {
      "cell_type": "markdown",
      "source": [
        "---\n",
        "### Exercise 6 - case conversion  \n",
        "\n",
        "Write a function called **capitalise_names()** which will:  \n",
        "\n",
        "*  ask the user to input a **name** and a **surname**  \n",
        "*  print both `name` and `surname` in lowercase with a capital letter at the start, even if they didn't have capitals when they were typed in  \n",
        "\n",
        "Test Input:  \n",
        "benJamIN  \n",
        "\n",
        "Expected output:  \n",
        "Benjamin\n"
      ],
      "metadata": {
        "id": "jHiY1vV_yzNt"
      }
    },
    {
      "cell_type": "code",
      "source": [
        "def capitalise_names():\n",
        "  first_name = input(\"Enter your firstname: \")\n",
        "  surname = input(\"Enter your surname: \")\n",
        "  capitalized_firstname = first_name.capitalize()\n",
        "  capitalized_surname = surname.capitalize()\n",
        "\n",
        "  print(capitalized_firstname, capitalized_surname)\n",
        "\n",
        "capitalise_names()"
      ],
      "metadata": {
        "id": "wn8uFJhoy3DL",
        "colab": {
          "base_uri": "https://localhost:8080/"
        },
        "outputId": "eba67804-616c-48f2-a005-e673b65b5180"
      },
      "execution_count": 26,
      "outputs": [
        {
          "output_type": "stream",
          "name": "stdout",
          "text": [
            "Enter your firstname: benJamIN\n",
            "Enter your surname: sCOTT\n",
            "Benjamin Scott\n"
          ]
        }
      ]
    },
    {
      "cell_type": "markdown",
      "source": [
        "---\n",
        "### Exercise 7 - Substrings\n",
        "\n",
        "Write a function called **print_postcode_letters()** which will:   \n",
        "\n",
        "*  ask the user to enter a **postcode**  \n",
        "*  assign the first two letters of the postcode to a variable called **postcode_area**  \n",
        "*  convert the `postcode_area` String to capital letters and assign this to a variable called **capitalised_area**  \n",
        "*  print the `capitalised_area`  \n",
        "\n",
        "Test Input:  \n",
        "Me4 6bb  \n",
        "\n",
        "Expected output:  \n",
        "ME\n"
      ],
      "metadata": {
        "id": "Nf6nOs8Ny3f8"
      }
    },
    {
      "cell_type": "code",
      "source": [
        "def print_postcode_letters():\n",
        "  postcode = input(\"Enter your postcode: \")\n",
        "  postcode_area = postcode[0:2]\n",
        "  capitalised_area = postcode_area.upper()\n",
        "  print(capitalised_area)\n",
        "\n",
        "print_postcode_letters()\n"
      ],
      "metadata": {
        "id": "pv6ySeqFy5EQ",
        "colab": {
          "base_uri": "https://localhost:8080/"
        },
        "outputId": "ff839aa8-8fe3-410a-c3dc-343416cc531e"
      },
      "execution_count": 2,
      "outputs": [
        {
          "output_type": "stream",
          "name": "stdout",
          "text": [
            "Enter your postcode: Me4 6bb\n",
            "ME\n"
          ]
        }
      ]
    },
    {
      "cell_type": "markdown",
      "source": [
        "---\n",
        "### Exercise 8 - Floor division and slicing\n",
        "\n",
        "Write a function called **print_half_word()** which will:\n",
        "\n",
        "*  ask the user to enter a **word**  \n",
        "*  assign the value of half the length of the `word` to a variable called **half_length**  \n",
        "*  assign the first half of the `word` to a new variable called **half_word**  \n",
        "*  print `half_word`  \n",
        "\n",
        "*Hint:  when dividing the length of the word by 2, use floor division (//) so that you get a whole number of letters).  To get the first half of the word, use word[0:halfLength]*  \n",
        "\n",
        "Test input:  \n",
        "Runtime  \n",
        "\n",
        "Expected output:  \n",
        "Run"
      ],
      "metadata": {
        "id": "TZfFe6t6y5qG"
      }
    },
    {
      "cell_type": "code",
      "source": [
        "def print_half_word():\n",
        "  word = input(\"Enter a word: \")\n",
        "  half_length = len(word) // 2\n",
        "  half_word = word[0:half_length]\n",
        "  print(half_word)\n",
        "\n",
        "print_half_word()\n"
      ],
      "metadata": {
        "id": "5eyPFKAby8rb",
        "colab": {
          "base_uri": "https://localhost:8080/"
        },
        "outputId": "0c66aa33-e71f-42f7-b604-5972c103e2e9"
      },
      "execution_count": 3,
      "outputs": [
        {
          "output_type": "stream",
          "name": "stdout",
          "text": [
            "Enter a word: Runtime\n",
            "Run\n"
          ]
        }
      ]
    },
    {
      "cell_type": "markdown",
      "source": [
        "---\n",
        "### Exercise 9 - String repetition\n",
        "\n",
        "Write a function called **repeat_two_letters()** which will:\n",
        "\n",
        "*  ask the user to enter a **word**  \n",
        "*  assign the last two letters of the `word` to a variable called **last_two**  \n",
        "*  assign a string made of 5 copies of the `last_two` (*Hint: `last_two`* * 5 *will do it)* to a variable called **five_copies**  \n",
        "*  print `five_copies`\n",
        "\n",
        "Test Input:\n",
        "Data\n",
        "\n",
        "Expected output:\n",
        "tatatatata\n"
      ],
      "metadata": {
        "id": "kqKi-xSDy9wq"
      }
    },
    {
      "cell_type": "code",
      "source": [
        "def repeat_two_letters():\n",
        "  word = input(\"Enter a word: \")\n",
        "  last_two = word[-2:]\n",
        "  five_copies = last_two*5\n",
        "  print(five_copies)\n",
        "\n",
        "repeat_two_letters()\n"
      ],
      "metadata": {
        "id": "Usl-n3soy_uX",
        "colab": {
          "base_uri": "https://localhost:8080/"
        },
        "outputId": "40eed74d-8781-4197-fbe6-3f7327d5de08"
      },
      "execution_count": 7,
      "outputs": [
        {
          "output_type": "stream",
          "name": "stdout",
          "text": [
            "Enter a word: Data\n",
            "tatatatata\n"
          ]
        }
      ]
    },
    {
      "cell_type": "markdown",
      "source": [
        "---\n",
        "### Exercise 10 - converting String to lower case\n",
        "\n",
        "Write a function called **lowerCase_threeLetters()** which will:  \n",
        "\n",
        "*  assign the value “january” to a variable called **month**  \n",
        "*  assign the first three characters of `month` to a variable called **month_short**   \n",
        "*  capitalise `month_short` and store the result back in `month_short`\n",
        "*  assign the rest of the characters to a variable called **month_rest**  \n",
        "*  join `month_short` and `month_rest` together and store the result back into the variable `month`  \n",
        "*  print `month`  \n",
        "\n",
        "Expected output:  \n",
        "JANuary  "
      ],
      "metadata": {
        "id": "q3o2ryfazADo"
      }
    },
    {
      "cell_type": "code",
      "source": [
        "def lowerCase_threeLetters():\n",
        "  month = \"January\"\n",
        "  month_short = month[0:3]\n",
        "  capitalized_month_short = month_short.upper()\n",
        "  month_short = capitalized_month_short\n",
        "  month_rest = month[-4:]\n",
        "  month = month_short + month_rest\n",
        "  print(month)\n",
        "\n",
        "lowerCase_threeLetters()"
      ],
      "metadata": {
        "id": "wZ9r5M7XzB4q",
        "colab": {
          "base_uri": "https://localhost:8080/"
        },
        "outputId": "b99a9c72-dfbd-4ef7-bc13-38cfe9f3da2b"
      },
      "execution_count": 8,
      "outputs": [
        {
          "output_type": "stream",
          "name": "stdout",
          "text": [
            "JANuary\n"
          ]
        }
      ]
    },
    {
      "cell_type": "code",
      "source": [
        "def lowerCase_threeLetters():\n",
        "  month = \"January\"\n",
        "  month_short = month[:3]\n",
        "  month_short = month_short.upper()\n",
        "  month_rest = month[3:]\n",
        "  month = month_short + month_rest\n",
        "  print(month)\n",
        "\n",
        "lowerCase_threeLetters()"
      ],
      "metadata": {
        "colab": {
          "base_uri": "https://localhost:8080/"
        },
        "id": "wvDV6YUe0Oaa",
        "outputId": "df56dd10-c805-418e-f62d-0a061c59d767"
      },
      "execution_count": 10,
      "outputs": [
        {
          "output_type": "stream",
          "name": "stdout",
          "text": [
            "JANuary\n"
          ]
        }
      ]
    }
  ]
}